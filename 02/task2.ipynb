{
 "cells": [
  {
   "cell_type": "markdown",
   "metadata": {},
   "source": [
    "## 1 The Computational Model"
   ]
  },
  {
   "cell_type": "code",
   "execution_count": null,
   "metadata": {
    "collapsed": false
   },
   "outputs": [],
   "source": [
    "%matplotlib inline\n",
    "import cv2\n",
    "import numpy as np\n",
    "import matplotlib.pyplot as plt"
   ]
  },
  {
   "cell_type": "markdown",
   "metadata": {},
   "source": [
    "## 1.1 Topographic feature maps"
   ]
  },
  {
   "cell_type": "markdown",
   "metadata": {},
   "source": [
    "### 1.1.1\n",
    "Read `test0.jpg` from $640x480$ directory, and split the image into 3 channels of RGB namely `r`, `g`, `b`. To compute the intensity `I`, use the formula $I = (r + g + b)/3$."
   ]
  },
  {
   "cell_type": "code",
   "execution_count": null,
   "metadata": {
    "collapsed": false
   },
   "outputs": [],
   "source": [
    "img = plt.imread('640x480/test0.jpg')\n",
    "r, g, b = (img[:, :, 0], img[:, :, 1], img[:, :, 2])\n",
    "I = (r + g + b) / 3\n",
    "\n",
    "plt.imshow(img)\n",
    "plt.axis('off')\n",
    "plt.title('original image')\n",
    "plt.show()"
   ]
  },
  {
   "cell_type": "markdown",
   "metadata": {},
   "source": [
    "### 1.1.2\n",
    "Normalize `r`, `g`, `b` by `I`."
   ]
  },
  {
   "cell_type": "code",
   "execution_count": null,
   "metadata": {
    "collapsed": true
   },
   "outputs": [],
   "source": [
    "# def normalizeImage(n, d, t):\n",
    "#     return np.reshape([i/j if j > t else 0 for i,j in zip(np.nditer(n), np.nditer(d))], d.shape)"
   ]
  },
  {
   "cell_type": "code",
   "execution_count": null,
   "metadata": {
    "collapsed": false
   },
   "outputs": [],
   "source": [
    "def _normalize_channel(nom, denom):\n",
    "    threshold = 0.1*np.max(denom)\n",
    "    nom = np.copy(nom)\n",
    "    yes = np.where(denom > threshold)\n",
    "    nom[np.where(denom <= threshold)] = 0\n",
    "    nom[yes] = nom[yes] / denom[yes]\n",
    "    return nom\n",
    "\n",
    "r, g, b = (_normalize_channel(c, I) for c in (r, g, b))"
   ]
  },
  {
   "cell_type": "markdown",
   "metadata": {},
   "source": [
    "### 1.1.3\n",
    "Compute `R`, `G`, `B`, `Y` as mentioned in the paper using:"
   ]
  },
  {
   "cell_type": "code",
   "execution_count": null,
   "metadata": {
    "collapsed": false
   },
   "outputs": [],
   "source": [
    "R = r - (g + b) / 2\n",
    "G = g - (r + b) / 2\n",
    "B = b - (r + g) / 2\n",
    "Y = (r + g) / 2 - np.abs(r - g) / 2 - b"
   ]
  },
  {
   "cell_type": "markdown",
   "metadata": {},
   "source": [
    "### 1.1.4\n",
    "Design Gabor filters using `getGaborKernel()` from OpenCV. Select parameters for kernel size, sigma ($\\sigma$), theta ($\\theta$) and lambd ($\\lambda$) to find appropriate filters for four orientations ($\\theta = \\{0^{\\circ}, 45^{\\circ}, 90^{\\circ}, 135^{\\circ}\\}$). We may fix gamma ($\\gamma$) and phi ($\\phi$) with $0.5$ and $0$ respectively. Save your designed Gabor filters to files."
   ]
  },
  {
   "cell_type": "code",
   "execution_count": null,
   "metadata": {
    "collapsed": false
   },
   "outputs": [],
   "source": [
    "gabors = [cv2.getGaborKernel((16, 16), sigma=1, theta=theta, lambd=10, gamma=.5, psi=0)\n",
    "          for theta in range(0, 180, 45)]\n",
    "\n",
    "for i, theta in enumerate(range(0, 180, 45)):\n",
    "    ax = plt.subplot(221+i)\n",
    "    ax.set_title('theta = {}'.format(theta))\n",
    "    ax.imshow(gabors[i], cmap='gray')\n",
    "    ax.axis('off')"
   ]
  },
  {
   "cell_type": "markdown",
   "metadata": {},
   "source": [
    "### 1.1.5\n",
    "Convolve the gray image (to convert an image to gray image, use: `cv2.cvtColor()`) with the Gabor filters from previous step using `cv2.filter2D()`. Save your output images from four orientations to files."
   ]
  },
  {
   "cell_type": "code",
   "execution_count": null,
   "metadata": {
    "collapsed": false
   },
   "outputs": [],
   "source": [
    "img_gray = cv2.cvtColor(img, cv2.COLOR_BGR2GRAY)\n",
    "gabored = [cv2.filter2D(img_gray, -1, gabor) for gabor in gabors]\n",
    "\n",
    "for i, theta in enumerate(range(0, 180, 45)):\n",
    "    ax = plt.subplot(221+i)\n",
    "    ax.imshow(gabored[i], cmap='gray')\n",
    "    ax.axis('off')\n",
    "    ax.set_title('theta = {}'.format(theta))"
   ]
  },
  {
   "cell_type": "markdown",
   "metadata": {},
   "source": [
    "### 1.1.6\n",
    "Now, we are ready to go! Apply cv2.pyDown() to create Gaussian pyramids in eight octaves for all maps that we have created. (The scales mentioned in the paper start from scale zero.)"
   ]
  },
  {
   "cell_type": "code",
   "execution_count": null,
   "metadata": {
    "collapsed": false
   },
   "outputs": [],
   "source": [
    "def _make_pyramids(img):\n",
    "    pyramids = [img]\n",
    "    for i in range(7):\n",
    "        pyramids.append(cv2.pyrDown(pyramids[-1]))\n",
    "    return pyramids\n",
    "\n",
    "Rp, Gp, Bp, Yp, Ip = (_make_pyramids(m) for m in (R, G, B, Y, I))\n",
    "Ops = [_make_pyramids(gabor) for gabor in gabors]"
   ]
  },
  {
   "cell_type": "markdown",
   "metadata": {},
   "source": [
    "## 1.2 Multi-scale center-surround differences\n",
    "Set fine scales using center $c$ at $c \\in \\{2, 3, 4\\}$ and coarse scales as surround $s = c + \\delta$, with $δ \\in \\{3, 4\\}$. Therefore, we get 6 pairs of $(c, s)$ across different octaves as $\\{2, 5\\}, \\{2, 6\\}, \\{3, 6\\}, \\{3, 7\\}, \\{4, 7\\}, \\{4, 8\\}$."
   ]
  },
  {
   "cell_type": "code",
   "execution_count": null,
   "metadata": {
    "collapsed": false
   },
   "outputs": [],
   "source": [
    "cs = np.asarray([(2,5), (2,6), (3,6), (3,7), (4,7), (4,8)])-1"
   ]
  },
  {
   "cell_type": "markdown",
   "metadata": {},
   "source": [
    "### 1.2.1\n",
    "Compute $\\mathcal{I}(c, s)$, $\\mathcal{RG}(c, s)$, $\\mathcal{BY}(c, s)$ as defined in equation $(1)$, $(2)$ and $(3)$ as described in the paper. In order to perform operations across the different scales, you can use `cv2.resize()` to linearly interpolate the map to any scale.\n",
    "\n",
    "$$\\mathcal{I}(c,s) = |I(c) \\ominus I(s)| \\quad (1)$$\n",
    "$$\\mathcal{RG}(c,s) = |(R(c) - G(c)) \\ominus (G(s) - R(s))| \\quad (2)$$\n",
    "$$\\mathcal{BY}(c, s) = |(B(c) - Y(c)) \\ominus (Y(s) - B(s))| \\quad (3)$$"
   ]
  },
  {
   "cell_type": "code",
   "execution_count": null,
   "metadata": {
    "collapsed": false
   },
   "outputs": [],
   "source": [
    "def _center_surround_diff(c, s, a, b=None):\n",
    "    l = a[c] - (b[c] if b is not None else 0)\n",
    "    r = a[s] if b is None else b[s] - a[s]\n",
    "    return np.abs(l - cv2.resize(r, l.shape[::-1]))\n",
    "\n",
    "Ics = [_center_surround_diff(c, s, Ip) for c, s in cs]\n",
    "RGcs = [_center_surround_diff(c, s, Rp, Gp) for c, s in cs]\n",
    "BYcs = [_center_surround_diff(c, s, Bp, Yp) for c, s in cs]"
   ]
  },
  {
   "cell_type": "markdown",
   "metadata": {},
   "source": [
    "### 1.2.2\n",
    "Similarly, compute $O(c,s,\\theta)$ as in equation $(4)$.\n",
    "\n",
    "$$O(c,s,\\theta) = |O(c,\\theta) \\ominus O(s,\\theta)| \\quad (4)$$"
   ]
  },
  {
   "cell_type": "code",
   "execution_count": null,
   "metadata": {
    "collapsed": false
   },
   "outputs": [],
   "source": [
    "Otcs = [[_center_surround_diff(c, s, Op) for c, s in cs] for Op in Ops]"
   ]
  },
  {
   "cell_type": "markdown",
   "metadata": {},
   "source": [
    "### 1.2.3\n",
    "Now, we get 6 maps for intensity, 12 maps for color and 24 for orientation. Apply normalization $\\mathcal{N}(\\cdot)$ to each map using the same range for all maps. (Read about normalization and how to do it in the paper!)"
   ]
  },
  {
   "cell_type": "code",
   "execution_count": null,
   "metadata": {
    "collapsed": true
   },
   "outputs": [],
   "source": [
    "from scipy.signal import argrelextrema\n",
    "def _normalize(img):\n",
    "    M = np.max(img)\n",
    "    m = np.mean([m for m in img[argrelextrema(img, np.greater)] if m != M])\n",
    "    return np.copy(img) * ((M - m) ** 2)"
   ]
  },
  {
   "cell_type": "code",
   "execution_count": null,
   "metadata": {
    "collapsed": false,
    "scrolled": false
   },
   "outputs": [],
   "source": [
    "Ics = [_normalize(img) for img in Ics]\n",
    "RGcs = [_normalize(img) for img in RGcs]\n",
    "BYcs = [_normalize(img) for img in BYcs]\n",
    "Otcs = [[_normalize(img) for img in Ocs] for Ocs in Otcs]"
   ]
  },
  {
   "cell_type": "markdown",
   "metadata": {},
   "source": [
    "## 1.3 Across-scale combinations and normalization\n",
    "We will combine maps from different scales and modalities."
   ]
  },
  {
   "cell_type": "markdown",
   "metadata": {},
   "source": [
    "### 1.3.1\n",
    "In order to combine maps from different scales we select the scale at $\\sigma = 4$. Again, we can use `cv2.resize()` to combine maps by their features as shown in equations $(5)$, $(6)$ and $(7)$.\n",
    "\n",
    "$$\\bar{\\mathcal{I}} = \\oplus^4_{c=2} \\oplus^{c+4}_{s=c+3} \\mathcal{N}(I(c,s)) \\quad (5)$$\n",
    "\n",
    "$$\\bar{C} = \\oplus^4_{c=2} \\oplus^{c+4}_{s=c+3} [\\mathcal{N}(\\mathcal{RG}(c,s)) + \\mathcal{N}(\\mathcal{BY}(c,s))] \\quad (6)$$\n",
    "\n",
    "$$\\bar{O} = \\sum_{\\theta \\in \\{0^{\\circ},45^{\\circ},90^{\\circ},135^{\\circ}\\}} \\mathcal{N} \\left( \\oplus^4_{c=2} \\oplus^{c+4}_{s=c+3} \\mathcal{N}(O(c,s,\\theta)) \\right) \\quad (6)$$"
   ]
  },
  {
   "cell_type": "code",
   "execution_count": null,
   "metadata": {
    "collapsed": false
   },
   "outputs": [],
   "source": [
    "def _addition(imgs, size):\n",
    "    imgs = [cv2.resize(img, size[::-1]) for img in imgs]\n",
    "    return np.sum(imgs, 0)\n",
    "\n",
    "Ibar = _addition(Ics, Ics[3].shape)\n",
    "Cbar = _addition([RGcs[i] + BYcs[i] for i in range(len(RGcs))], RGcs[3].shape)\n",
    "Obar = np.sum([_normalize(_addition(Ocs, Ics[3].shape)) for Ocs in Otcs], 0)"
   ]
  },
  {
   "cell_type": "markdown",
   "metadata": {
    "collapsed": true
   },
   "source": [
    "### 1.3.2\n",
    "The final saliency map can be obtained using equation $(9)$. Save the saliency map to a file. (You can up-scale the saliency map to the original image size in order to have it map be of the same size as the image.)\n",
    "\n",
    "$$S=\\frac{1}{3} \\left(\\mathcal{N}(\\bar{\\mathcal{I}})+\\mathcal{N}(\\bar{C})+\\mathcal{N}(\\bar{O})\\right) \\quad (8)$$"
   ]
  },
  {
   "cell_type": "code",
   "execution_count": null,
   "metadata": {
    "collapsed": false
   },
   "outputs": [],
   "source": [
    "S = _normalize(Ibar) + _normalize(Cbar) + _normalize(Obar)\n",
    "S = cv2.resize(1/3 * S, img.shape[1::-1])\n",
    "\n",
    "ax1 = plt.subplot(121)\n",
    "ax1.set_title('saliency map')\n",
    "ax1.imshow(S, cmap='gray')\n",
    "ax1.axis('off')\n",
    "ax2 = plt.subplot(122)\n",
    "ax2.set_title('originial image')\n",
    "ax2.imshow(img)\n",
    "ax2.axis('off')\n",
    "plt.show()"
   ]
  }
 ],
 "metadata": {
  "kernelspec": {
   "display_name": "Python 3",
   "language": "python",
   "name": "python3"
  },
  "language_info": {
   "codemirror_mode": {
    "name": "ipython",
    "version": 3
   },
   "file_extension": ".py",
   "mimetype": "text/x-python",
   "name": "python",
   "nbconvert_exporter": "python",
   "pygments_lexer": "ipython3",
   "version": "3.5.2"
  }
 },
 "nbformat": 4,
 "nbformat_minor": 1
}
