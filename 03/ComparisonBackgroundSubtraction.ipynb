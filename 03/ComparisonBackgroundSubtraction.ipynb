{
 "cells": [
  {
   "cell_type": "markdown",
   "metadata": {},
   "source": [
    "# Adaptive Gaussian Mixture Model for Background Subtraction"
   ]
  },
  {
   "cell_type": "code",
   "execution_count": null,
   "metadata": {
    "collapsed": true
   },
   "outputs": [],
   "source": [
    "%matplotlib notebook\n",
    "\n",
    "import matplotlib.pyplot as plt\n",
    "\n",
    "from cvloop import cvloop\n",
    "from cvloop.functions import *"
   ]
  },
  {
   "cell_type": "markdown",
   "metadata": {},
   "source": [
    "### Webcam Feeds"
   ]
  },
  {
   "cell_type": "code",
   "execution_count": null,
   "metadata": {
    "collapsed": false
   },
   "outputs": [],
   "source": [
    "# Mixture of Gaussians (on Webcam, KaewTraKulPong/Bowden 2001)\n",
    "cvloop(function=cv_foreground_extractor_mog, side_by_side=True)"
   ]
  },
  {
   "cell_type": "code",
   "execution_count": null,
   "metadata": {
    "collapsed": false,
    "scrolled": false
   },
   "outputs": [],
   "source": [
    "# Mixture of Gaussians (on Webcam, Zivkovic 2004/2006)\n",
    "cvloop(function=cv_foreground_extractor_mog2, side_by_side=True)"
   ]
  },
  {
   "cell_type": "markdown",
   "metadata": {},
   "source": [
    "### Test Videos\n",
    "- [OpenCV Examples](https://github.com/opencv/opencv_extra/tree/7054d3f5d957c8f4849aea34aa1dcbadf4207a38/testdata/cv/video)\n",
    "- [AVSS 2007 Examples](http://www.eecs.qmul.ac.uk/~andrea/avss2007_d.html)"
   ]
  },
  {
   "cell_type": "code",
   "execution_count": null,
   "metadata": {
    "collapsed": false
   },
   "outputs": [],
   "source": [
    "videos_cv = ['768x576.avi', '1920x1080.avi'] # OpenCV Examples\n",
    "videos_ab = ['AVSS_AB_Easy_Divx.avi', 'AVSS_AB_Medium_Divx.avi', 'AVSS_AB_Hard_Divx.avi'] # AVSS 2007\n",
    "videos_pv = ['AVSS_PV_Easy_Divx.avi', 'AVSS_PV_Medium_Divx.avi', 'AVSS_PV_Hard_Divx.avi', 'AVSS_PV_Night_Divx.avi'] # AVSS 2007"
   ]
  },
  {
   "cell_type": "code",
   "execution_count": null,
   "metadata": {
    "collapsed": true
   },
   "outputs": [],
   "source": [
    "cvloop(videos_cv[0], function=cv_foreground_extractor_mog2)"
   ]
  },
  {
   "cell_type": "markdown",
   "metadata": {},
   "source": [
    "### Store N-th frame for comparison\n",
    "\n",
    "The following uses a sample of the videos and stores the algorithm applications for some frames. This is used for our report."
   ]
  },
  {
   "cell_type": "code",
   "execution_count": null,
   "metadata": {
    "collapsed": false
   },
   "outputs": [],
   "source": [
    "class ExtractNthFrame:\n",
    "    def __init__(self, frameNo, funs, prefix):\n",
    "        \"\"\"Initializes to extract frame frameNo.\"\"\"\n",
    "        self.frameNo = frameNo\n",
    "        self.current = 0\n",
    "        self.funs = funs\n",
    "        self.prefix = prefix\n",
    "\n",
    "\n",
    "    def __call__(self, frame):\n",
    "        \"\"\"Applies all functions and if frameNo equals current frame, stores all images. \n",
    "        Returns the original frame.\"\"\"\n",
    "        self.current += 1\n",
    "        for name, fun in self.funs.items():\n",
    "            out = fun(frame)\n",
    "            if self.current == self.frameNo:\n",
    "                plt.imsave('{}_{}_f{}.png'.format(self.prefix, name, self.current), out, cmap='gray' if 'mask' in name else None)\n",
    "        if self.current == self.frameNo:\n",
    "            plt.imsave('{}_original_f{}.png'.format(self.prefix, self.current), frame)\n",
    "            print('Saved frame {}'.format(self.current))\n",
    "        return cv2.resize(frame, (0, 0), fx=0.25, fy=0.25)\n",
    "\n",
    "\n",
    "functions = {\n",
    "    'mask_mog': cv_background_subtractor_mog,\n",
    "    'mask_mog2': cv_background_subtractor_mog2,\n",
    "    'fg_mog': cv_foreground_extractor_mog,\n",
    "    'fg_mog2': cv_foreground_extractor_mog2\n",
    "}"
   ]
  },
  {
   "cell_type": "code",
   "execution_count": null,
   "metadata": {
    "collapsed": false,
    "scrolled": true
   },
   "outputs": [],
   "source": [
    "cvloop(videos_cv[0], function=ExtractNthFrame(100, functions, videos_cv[0].split('.')[0]))"
   ]
  },
  {
   "cell_type": "code",
   "execution_count": null,
   "metadata": {
    "collapsed": false
   },
   "outputs": [],
   "source": [
    "cvloop(videos_cv[1], function=ExtractNthFrame(100, functions, videos_cv[1].split('.')[0]))"
   ]
  },
  {
   "cell_type": "code",
   "execution_count": null,
   "metadata": {
    "collapsed": false
   },
   "outputs": [],
   "source": [
    "cvloop(videos_pv[2], function=ExtractNthFrame(500, functions, videos_pv[2].split('.')[0]))"
   ]
  },
  {
   "cell_type": "code",
   "execution_count": null,
   "metadata": {
    "collapsed": false,
    "scrolled": true
   },
   "outputs": [],
   "source": [
    "cvloop(videos_pv[3], function=ExtractNthFrame(500, functions, videos_pv[3].split('.')[0]))"
   ]
  },
  {
   "cell_type": "code",
   "execution_count": null,
   "metadata": {
    "collapsed": false,
    "scrolled": true
   },
   "outputs": [],
   "source": [
    "cvloop(videos_ab[0], function=ExtractNthFrame(500, functions, videos_ab[0].split('.')[0]))"
   ]
  },
  {
   "cell_type": "code",
   "execution_count": null,
   "metadata": {
    "collapsed": false,
    "scrolled": true
   },
   "outputs": [],
   "source": [
    "cvloop(videos_ab[2], function=ExtractNthFrame(500, functions, videos_ab[2].split('.')[0]))"
   ]
  },
  {
   "cell_type": "markdown",
   "metadata": {},
   "source": [
    "### Two mask comparison\n",
    "\n",
    "Reads the mask files for a given image and creates a side-by-side comparison image."
   ]
  },
  {
   "cell_type": "code",
   "execution_count": null,
   "metadata": {
    "collapsed": false
   },
   "outputs": [],
   "source": [
    "image = '768x576'\n",
    "frame = 100\n",
    "what = 'mask'\n",
    "width = 396\n",
    "\n",
    "name_mog = '{}_{}_mog_f{}.png'.format(image, what, frame)\n",
    "name_mog2 = '{}_{}_mog2_f{}.png'.format(image, what, frame)\n",
    "\n",
    "img_mog = plt.imread(name_mog)\n",
    "img_mog2 = plt.imread(name_mog2)\n",
    "\n",
    "img_comp = np.hstack((img_mog[:,:width], img_mog2[:,width:]))\n",
    "img_comp[:,width] = (1, 0, 0, 1)\n",
    "img_comp = img_comp[100:370,250:680]\n",
    "plt.figure()\n",
    "plt.title('Splitting at pixel {}'.format(width))\n",
    "plt.imshow(img_comp)\n",
    "plt.imsave('{}_comp_{}_f{}.png'.format(image, what, frame), img_comp)"
   ]
  }
 ],
 "metadata": {
  "kernelspec": {
   "display_name": "Python 3.6 (Gaze Prediction)",
   "language": "python",
   "name": "gazeprediction36"
  },
  "language_info": {
   "codemirror_mode": {
    "name": "ipython",
    "version": 3
   },
   "file_extension": ".py",
   "mimetype": "text/x-python",
   "name": "python",
   "nbconvert_exporter": "python",
   "pygments_lexer": "ipython3",
   "version": "3.6.0b4"
  }
 },
 "nbformat": 4,
 "nbformat_minor": 1
}
